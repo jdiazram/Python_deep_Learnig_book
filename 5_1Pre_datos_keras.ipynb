{
  "nbformat": 4,
  "nbformat_minor": 0,
  "metadata": {
    "colab": {
      "name": "5.1Pre_datos_keras",
      "provenance": [],
      "collapsed_sections": [],
      "toc_visible": true,
      "authorship_tag": "ABX9TyMNTlaViRblGBWyPrA7vw65",
      "include_colab_link": true
    },
    "kernelspec": {
      "name": "python3",
      "display_name": "Python 3"
    },
    "accelerator": "GPU"
  },
  "cells": [
    {
      "cell_type": "markdown",
      "metadata": {
        "id": "view-in-github",
        "colab_type": "text"
      },
      "source": [
        "<a href=\"https://colab.research.google.com/github/jdiazram/Python_deep_Learnig_book/blob/master/5_1Pre_datos_keras.ipynb\" target=\"_parent\"><img src=\"https://colab.research.google.com/assets/colab-badge.svg\" alt=\"Open In Colab\"/></a>"
      ]
    },
    {
      "cell_type": "markdown",
      "metadata": {
        "id": "qqnSGDBesD7C",
        "colab_type": "text"
      },
      "source": [
        "5.1 Precarga de los datos con Keras\n"
      ]
    },
    {
      "cell_type": "code",
      "metadata": {
        "id": "Q_v6rrGtsZy4",
        "colab_type": "code",
        "outputId": "d95d39ae-fb84-42aa-bdcb-34182a72c9ac",
        "colab": {
          "base_uri": "https://localhost:8080/",
          "height": 34
        }
      },
      "source": [
        "#verificar la version de tensorflow a manejar (2.x)\n",
        "%tensorflow_version 2.x"
      ],
      "execution_count": 1,
      "outputs": [
        {
          "output_type": "stream",
          "text": [
            "TensorFlow 2.x selected.\n"
          ],
          "name": "stdout"
        }
      ]
    },
    {
      "cell_type": "code",
      "metadata": {
        "id": "2hTJHknlu9hx",
        "colab_type": "code",
        "outputId": "d5c312fb-2c06-42bb-dbe5-21d0a20719da",
        "colab": {
          "base_uri": "https://localhost:8080/",
          "height": 52
        }
      },
      "source": [
        "import tensorflow as tf\n",
        "print(\"GPU disponible:\", tf.test.is_gpu_available())\n",
        "print(\"GPU disponible:\", tf.config.list_physical_devices('GPU'))"
      ],
      "execution_count": 3,
      "outputs": [
        {
          "output_type": "stream",
          "text": [
            "GPU disponible: True\n",
            "GPU disponible: [PhysicalDevice(name='/physical_device:GPU:0', device_type='GPU')]\n"
          ],
          "name": "stdout"
        }
      ]
    },
    {
      "cell_type": "code",
      "metadata": {
        "id": "7n5gkvwWq1Bq",
        "colab_type": "code",
        "outputId": "d5cc58c8-5f18-4abb-b8ab-7f182bf70266",
        "colab": {
          "base_uri": "https://localhost:8080/",
          "height": 52
        }
      },
      "source": [
        "#cargar base de datos\n",
        "mnist = tf.keras.datasets.mnist\n",
        "#asignar los datos a variables de entrenamiento y prueba\n",
        "(x_train, y_train), (x_test, y_test) = mnist.load_data()"
      ],
      "execution_count": 4,
      "outputs": [
        {
          "output_type": "stream",
          "text": [
            "Downloading data from https://storage.googleapis.com/tensorflow/tf-keras-datasets/mnist.npz\n",
            "11493376/11490434 [==============================] - 0s 0us/step\n"
          ],
          "name": "stdout"
        }
      ]
    },
    {
      "cell_type": "code",
      "metadata": {
        "id": "vb67UziWx3gI",
        "colab_type": "code",
        "outputId": "a5e8f670-8ad8-4040-fe82-5822307f6536",
        "colab": {
          "base_uri": "https://localhost:8080/",
          "height": 282
        }
      },
      "source": [
        "#ver la imagen 8 para verificacion\n",
        "import matplotlib.pyplot as plt\n",
        "plt.imshow(x_train[8], cmap = plt.cm.binary)"
      ],
      "execution_count": 5,
      "outputs": [
        {
          "output_type": "execute_result",
          "data": {
            "text/plain": [
              "<matplotlib.image.AxesImage at 0x7f94f414b160>"
            ]
          },
          "metadata": {
            "tags": []
          },
          "execution_count": 5
        },
        {
          "output_type": "display_data",
          "data": {
            "image/png": "[encoded data removed]",
            "text/plain": [
              "<Figure size 432x288 with 1 Axes>"
            ]
          },
          "metadata": {
            "tags": []
          }
        }
      ]
    },
    {
      "cell_type": "code",
      "metadata": {
        "id": "vuAubdY0y4y4",
        "colab_type": "code",
        "outputId": "913c56b5-0a43-4fda-bfbb-6e8e37704304",
        "colab": {
          "base_uri": "https://localhost:8080/",
          "height": 34
        }
      },
      "source": [
        "#etiqueta 8\n",
        "print(y_train[8])"
      ],
      "execution_count": 6,
      "outputs": [
        {
          "output_type": "stream",
          "text": [
            "1\n"
          ],
          "name": "stdout"
        }
      ]
    },
    {
      "cell_type": "code",
      "metadata": {
        "id": "_zEE6qAPzKSH",
        "colab_type": "code",
        "outputId": "f427949f-5bd2-445e-f623-9095a557106f",
        "colab": {
          "base_uri": "https://localhost:8080/",
          "height": 34
        }
      },
      "source": [
        "#numero de ejes\n",
        "print(x_train.ndim)"
      ],
      "execution_count": 7,
      "outputs": [
        {
          "output_type": "stream",
          "text": [
            "3\n"
          ],
          "name": "stdout"
        }
      ]
    },
    {
      "cell_type": "code",
      "metadata": {
        "id": "NgPORnlQzW1P",
        "colab_type": "code",
        "outputId": "5a57b9ae-1fb2-4aaa-f11e-222fbe938302",
        "colab": {
          "base_uri": "https://localhost:8080/",
          "height": 34
        }
      },
      "source": [
        "#dimensiones del tensor \n",
        "print(x_train.shape)"
      ],
      "execution_count": 8,
      "outputs": [
        {
          "output_type": "stream",
          "text": [
            "(60000, 28, 28)\n"
          ],
          "name": "stdout"
        }
      ]
    },
    {
      "cell_type": "code",
      "metadata": {
        "id": "u4YQ37QqzlP4",
        "colab_type": "code",
        "outputId": "6c340b31-5ab8-4fa9-b50b-b9569b09620e",
        "colab": {
          "base_uri": "https://localhost:8080/",
          "height": 34
        }
      },
      "source": [
        "#tipos de datos que contiene\n",
        "print(x_train.dtype)"
      ],
      "execution_count": 9,
      "outputs": [
        {
          "output_type": "stream",
          "text": [
            "uint8\n"
          ],
          "name": "stdout"
        }
      ]
    }
  ]
}
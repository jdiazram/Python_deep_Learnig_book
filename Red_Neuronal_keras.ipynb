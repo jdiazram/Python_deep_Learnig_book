{
  "nbformat": 4,
  "nbformat_minor": 0,
  "metadata": {
    "colab": {
      "name": "Red_Neuronal_keras",
      "provenance": [],
      "collapsed_sections": [],
      "toc_visible": true,
      "authorship_tag": "ABX9TyMVrJKPbYdwjynFmkPiVhmE",
      "include_colab_link": true
    },
    "kernelspec": {
      "name": "python3",
      "display_name": "Python 3"
    },
    "accelerator": "GPU"
  },
  "cells": [
    {
      "cell_type": "markdown",
      "metadata": {
        "id": "view-in-github",
        "colab_type": "text"
      },
      "source": [
        "<a href=\"https://colab.research.google.com/github/jdiazram/Python_deep_Learnig_book/blob/master/Red_Neuronal_keras.ipynb\" target=\"_parent\"><img src=\"https://colab.research.google.com/assets/colab-badge.svg\" alt=\"Open In Colab\"/></a>"
      ]
    },
    {
      "cell_type": "markdown",
      "metadata": {
        "id": "KGiLHMR_Ncyb",
        "colab_type": "text"
      },
      "source": [
        "## **5.1 Precarga de datos Keras**"
      ]
    },
    {
      "cell_type": "code",
      "metadata": {
        "id": "Q_v6rrGtsZy4",
        "colab_type": "code",
        "colab": {}
      },
      "source": [
        "#verificar la version de tensorflow a manejar (2.x)\n",
        "%tensorflow_version 2.x"
      ],
      "execution_count": 0,
      "outputs": []
    },
    {
      "cell_type": "code",
      "metadata": {
        "id": "2hTJHknlu9hx",
        "colab_type": "code",
        "outputId": "5585f77f-8551-4b64-a7bf-a0b1ea91d35c",
        "colab": {
          "base_uri": "https://localhost:8080/",
          "height": 70
        }
      },
      "source": [
        "import tensorflow as tf\n",
        "#print(\"GPU disponible:\", tf.test.is_gpu_available())\n",
        "print(\"GPU disponible:\", tf.config.list_physical_devices('GPU')) # cambiar entorno de ejecucion con GPU\n",
        "\n",
        "print(\"Version TensorFlow:\",tf.__version__)\n",
        "\n",
        "from tensorflow import keras\n",
        "print(\"Version Keras:\",tf.keras.__version__)"
      ],
      "execution_count": 3,
      "outputs": [
        {
          "output_type": "stream",
          "text": [
            "GPU disponible: [PhysicalDevice(name='/physical_device:GPU:0', device_type='GPU')]\n",
            "Version TensorFlow: 2.2.0-rc2\n",
            "Version Keras: 2.3.0-tf\n"
          ],
          "name": "stdout"
        }
      ]
    },
    {
      "cell_type": "code",
      "metadata": {
        "id": "7n5gkvwWq1Bq",
        "colab_type": "code",
        "outputId": "0c820540-c99c-46e0-8766-ed2430b3bf94",
        "colab": {
          "base_uri": "https://localhost:8080/",
          "height": 52
        }
      },
      "source": [
        "#cargar base de datos\n",
        "mnist = tf.keras.datasets.mnist\n",
        "#asignar los datos a variables de entrenamiento y prueba\n",
        "(x_train, y_train), (x_test, y_test) = mnist.load_data()"
      ],
      "execution_count": 4,
      "outputs": [
        {
          "output_type": "stream",
          "text": [
            "Downloading data from https://storage.googleapis.com/tensorflow/tf-keras-datasets/mnist.npz\n",
            "11493376/11490434 [==============================] - 0s 0us/step\n"
          ],
          "name": "stdout"
        }
      ]
    },
    {
      "cell_type": "code",
      "metadata": {
        "id": "vb67UziWx3gI",
        "colab_type": "code",
        "outputId": "13883038-2cbf-4c36-ff31-7bb0ea93ab29",
        "colab": {
          "base_uri": "https://localhost:8080/",
          "height": 282
        }
      },
      "source": [
        "#ver la imagen 8 para verificacion, numero 1\n",
        "import matplotlib.pyplot as plt\n",
        "plt.imshow(x_train[8], cmap = plt.cm.binary)"
      ],
      "execution_count": 6,
      "outputs": [
        {
          "output_type": "execute_result",
          "data": {
            "text/plain": [
              "<matplotlib.image.AxesImage at 0x7f82d1d7b4a8>"
            ]
          },
          "metadata": {
            "tags": []
          },
          "execution_count": 6
        },
        {
          "output_type": "display_data",
          "data": {
            "image/png": "[encoded data removed]",
            "text/plain": [
              "<Figure size 432x288 with 1 Axes>"
            ]
          },
          "metadata": {
            "tags": []
          }
        }
      ]
    },
    {
      "cell_type": "code",
      "metadata": {
        "id": "vuAubdY0y4y4",
        "colab_type": "code",
        "outputId": "88283e1f-e2f8-42f6-806f-ac95e092ddc9",
        "colab": {
          "base_uri": "https://localhost:8080/",
          "height": 34
        }
      },
      "source": [
        "#etiqueta 8\n",
        "print(y_train[8])"
      ],
      "execution_count": 7,
      "outputs": [
        {
          "output_type": "stream",
          "text": [
            "1\n"
          ],
          "name": "stdout"
        }
      ]
    },
    {
      "cell_type": "code",
      "metadata": {
        "id": "_zEE6qAPzKSH",
        "colab_type": "code",
        "outputId": "b0c5c055-bd8f-4988-eb8d-1468a0d3a0b6",
        "colab": {
          "base_uri": "https://localhost:8080/",
          "height": 34
        }
      },
      "source": [
        "#numero de ejes\n",
        "print(x_train.ndim)"
      ],
      "execution_count": 8,
      "outputs": [
        {
          "output_type": "stream",
          "text": [
            "3\n"
          ],
          "name": "stdout"
        }
      ]
    },
    {
      "cell_type": "code",
      "metadata": {
        "id": "NgPORnlQzW1P",
        "colab_type": "code",
        "outputId": "3d99b590-5bc0-4aa0-8347-a7e8a38223dd",
        "colab": {
          "base_uri": "https://localhost:8080/",
          "height": 34
        }
      },
      "source": [
        "#dimensiones del tensor \n",
        "print(x_train.shape)"
      ],
      "execution_count": 9,
      "outputs": [
        {
          "output_type": "stream",
          "text": [
            "(60000, 28, 28)\n"
          ],
          "name": "stdout"
        }
      ]
    },
    {
      "cell_type": "code",
      "metadata": {
        "id": "u4YQ37QqzlP4",
        "colab_type": "code",
        "outputId": "32722657-9cf4-4541-bd34-9239ac233363",
        "colab": {
          "base_uri": "https://localhost:8080/",
          "height": 34
        }
      },
      "source": [
        "#tipos de datos que contiene\n",
        "print(x_train.dtype)"
      ],
      "execution_count": 10,
      "outputs": [
        {
          "output_type": "stream",
          "text": [
            "uint8\n"
          ],
          "name": "stdout"
        }
      ]
    },
    {
      "cell_type": "markdown",
      "metadata": {
        "id": "Rzsn1zsmNIjC",
        "colab_type": "text"
      },
      "source": [
        "## **5.2 Preprocesado de datos de entrada de la RN**"
      ]
    },
    {
      "cell_type": "code",
      "metadata": {
        "id": "v5utF1OtNuvj",
        "colab_type": "code",
        "colab": {}
      },
      "source": [
        "#NORMALIZACION\n",
        "#tipo float32\n",
        "x_train = x_train.astype('float32')\n",
        "x_test = x_test.astype('float32')\n",
        "#se escalan los valores entr 0 y 1\n",
        "x_train /= 255\n",
        "x_test /= 255"
      ],
      "execution_count": 0,
      "outputs": []
    },
    {
      "cell_type": "code",
      "metadata": {
        "id": "6ySyQvmIOUbh",
        "colab_type": "code",
        "outputId": "d949dfdb-4a30-45c5-f997-264b9fa1c393",
        "colab": {
          "base_uri": "https://localhost:8080/",
          "height": 52
        }
      },
      "source": [
        "#Tranformar el tensor de imagen (2d) a array 1d \n",
        "x_train = x_train.reshape(60000,784)\n",
        "x_test = x_test.reshape(10000, 784)\n",
        "\n",
        "print(x_train.shape)\n",
        "print(x_test.shape)"
      ],
      "execution_count": 12,
      "outputs": [
        {
          "output_type": "stream",
          "text": [
            "(60000, 784)\n",
            "(10000, 784)\n"
          ],
          "name": "stdout"
        }
      ]
    },
    {
      "cell_type": "code",
      "metadata": {
        "id": "VABms0Z3QPqi",
        "colab_type": "code",
        "outputId": "32ba7434-7b5e-4ff5-8d54-0dd85e69f474",
        "colab": {
          "base_uri": "https://localhost:8080/",
          "height": 194
        }
      },
      "source": [
        "#codificacion one-hot\n",
        "from tensorflow.keras.utils import to_categorical\n",
        "#antes\n",
        "print(\"Antes\")\n",
        "print(y_test[0])\n",
        "print(y_train[0])\n",
        "print(y_train.shape)\n",
        "print(x_test.shape)\n",
        "#despues\n",
        "print(\"Antes\")\n",
        "y_train = to_categorical(y_train, num_classes=10)\n",
        "y_test = to_categorical(y_test, num_classes=10)\n",
        "print(y_test[0])\n",
        "print(y_train[0])\n",
        "print(y_train.shape)\n",
        "print(x_test.shape)\n"
      ],
      "execution_count": 13,
      "outputs": [
        {
          "output_type": "stream",
          "text": [
            "Antes\n",
            "7\n",
            "5\n",
            "(60000,)\n",
            "(10000, 784)\n",
            "Antes\n",
            "[0. 0. 0. 0. 0. 0. 0. 1. 0. 0.]\n",
            "[0. 0. 0. 0. 0. 1. 0. 0. 0. 0.]\n",
            "(60000, 10)\n",
            "(10000, 784)\n"
          ],
          "name": "stdout"
        }
      ]
    },
    {
      "cell_type": "markdown",
      "metadata": {
        "id": "CNlE_6U0Rp4p",
        "colab_type": "text"
      },
      "source": [
        "## **5.3 Definicion del modelo**"
      ]
    },
    {
      "cell_type": "code",
      "metadata": {
        "id": "oXHzS7VIRu_H",
        "colab_type": "code",
        "colab": {}
      },
      "source": [
        "#antes de tensorflow 2.0\n",
        "#model = Sequential()\n",
        "#model.add(Dense(10, activation = 'sigmoid', input_shape=(784,)))\n",
        "#model.add(Dense(10, activation='softmax'))\n",
        "\n",
        "#con tensorflow 2.0\n",
        "model = tf.keras.models.Sequential([\n",
        "  tf.keras.layers.Dense(10, activation='sigmoid',input_shape=(784,)),\n",
        "  tf.keras.layers.Dense(10, activation='softmax')\n",
        "])"
      ],
      "execution_count": 0,
      "outputs": []
    },
    {
      "cell_type": "code",
      "metadata": {
        "id": "0_lL-y3MWy2_",
        "colab_type": "code",
        "outputId": "a67a90a2-1264-4195-b167-29c07904caef",
        "colab": {
          "base_uri": "https://localhost:8080/",
          "height": 230
        }
      },
      "source": [
        "model.summary()"
      ],
      "execution_count": 15,
      "outputs": [
        {
          "output_type": "stream",
          "text": [
            "Model: \"sequential\"\n",
            "_________________________________________________________________\n",
            "Layer (type)                 Output Shape              Param #   \n",
            "=================================================================\n",
            "dense (Dense)                (None, 10)                7850      \n",
            "_________________________________________________________________\n",
            "dense_1 (Dense)              (None, 10)                110       \n",
            "=================================================================\n",
            "Total params: 7,960\n",
            "Trainable params: 7,960\n",
            "Non-trainable params: 0\n",
            "_________________________________________________________________\n"
          ],
          "name": "stdout"
        }
      ]
    },
    {
      "cell_type": "markdown",
      "metadata": {
        "id": "kn_JnxpMXopW",
        "colab_type": "text"
      },
      "source": [
        "## **5.4 configuracion del proceso de aprendizaje**"
      ]
    },
    {
      "cell_type": "code",
      "metadata": {
        "id": "YNBHlTEAXxHM",
        "colab_type": "code",
        "colab": {}
      },
      "source": [
        "model.compile(\n",
        "    loss=\"categorical_crossentropy\", #funcion de costo\n",
        "    optimizer = \"sgd\", #stocastic gradient descent\n",
        "    metrics = ['accuracy'] \n",
        ")"
      ],
      "execution_count": 0,
      "outputs": []
    },
    {
      "cell_type": "markdown",
      "metadata": {
        "id": "Oxcvm8KkYe-t",
        "colab_type": "text"
      },
      "source": [
        "## **5.5 Entrenamiento del modelo**"
      ]
    },
    {
      "cell_type": "code",
      "metadata": {
        "id": "d1kqfb9VYj2z",
        "colab_type": "code",
        "outputId": "0e195cca-f99a-41db-c3b5-65cad2d1a8c5",
        "colab": {
          "base_uri": "https://localhost:8080/",
          "height": 212
        }
      },
      "source": [
        "model.fit(x_train, y_train, epochs=5)"
      ],
      "execution_count": 17,
      "outputs": [
        {
          "output_type": "stream",
          "text": [
            "Epoch 1/5\n",
            "1875/1875 [==============================] - 4s 2ms/step - loss: 1.8996 - accuracy: 0.5230\n",
            "Epoch 2/5\n",
            "1875/1875 [==============================] - 4s 2ms/step - loss: 1.3071 - accuracy: 0.7200\n",
            "Epoch 3/5\n",
            "1875/1875 [==============================] - 4s 2ms/step - loss: 0.9835 - accuracy: 0.7721\n",
            "Epoch 4/5\n",
            "1875/1875 [==============================] - 4s 2ms/step - loss: 0.8050 - accuracy: 0.8128\n",
            "Epoch 5/5\n",
            "1875/1875 [==============================] - 4s 2ms/step - loss: 0.6953 - accuracy: 0.8368\n"
          ],
          "name": "stdout"
        },
        {
          "output_type": "execute_result",
          "data": {
            "text/plain": [
              "<tensorflow.python.keras.callbacks.History at 0x7f82d042dac8>"
            ]
          },
          "metadata": {
            "tags": []
          },
          "execution_count": 17
        }
      ]
    },
    {
      "cell_type": "markdown",
      "metadata": {
        "id": "tCpGroYzZRyD",
        "colab_type": "text"
      },
      "source": [
        "## **5.6 Evaluacion del modelo**"
      ]
    },
    {
      "cell_type": "code",
      "metadata": {
        "id": "qi2cxqTlvj_M",
        "colab_type": "code",
        "colab": {
          "base_uri": "https://localhost:8080/",
          "height": 52
        },
        "outputId": "b01e3082-0c12-4d7d-d120-874e51c1d7da"
      },
      "source": [
        "test_loss, test_acc = model.evaluate(x_test, y_test)\n",
        "print('Test accuracy:', test_acc)"
      ],
      "execution_count": 18,
      "outputs": [
        {
          "output_type": "stream",
          "text": [
            "313/313 [==============================] - 1s 2ms/step - loss: 0.6362 - accuracy: 0.8528\n",
            "Test accuracy: 0.8528000116348267\n"
          ],
          "name": "stdout"
        }
      ]
    }
  ]
}